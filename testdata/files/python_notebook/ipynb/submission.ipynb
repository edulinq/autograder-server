{
 "cells": [
  {
   "cell_type": "markdown",
   "id": "425a9d76-5acf-4a7d-ab89-a6562a284361",
   "metadata": {},
   "source": [
    "A markdown cell."
   ]
  },
  {
   "cell_type": "code",
   "execution_count": null,
   "id": "45ca0f9e-f53d-4a40-b089-afbfcca3c697",
   "metadata": {},
   "outputs": [],
   "source": [
    "def function1():\n",
    "    return True"
   ]
  },
  {
   "cell_type": "raw",
   "id": "2cd3a17f-c76a-49f0-acc2-0749def21f5c",
   "metadata": {},
   "source": [
    "Some raw cell."
   ]
  },
  {
   "cell_type": "code",
   "execution_count": null,
   "id": "5fad2896-bdee-4673-8e77-3c4a4e9632fd",
   "metadata": {},
   "outputs": [],
   "source": [
    "def function2(val):\n",
    "    return val + 1"
   ]
  },
  {
   "cell_type": "markdown",
   "id": "2f75015c-c411-4f75-a4b3-a033d75e4292",
   "metadata": {},
   "source": [
    "Another markdown cell."
   ]
  }
 ],
 "metadata": {
  "kernelspec": {
   "display_name": "Python 3 (ipykernel)",
   "language": "python",
   "name": "python3"
  },
  "language_info": {
   "codemirror_mode": {
    "name": "ipython",
    "version": 3
   },
   "file_extension": ".py",
   "mimetype": "text/x-python",
   "name": "python",
   "nbconvert_exporter": "python",
   "pygments_lexer": "ipython3",
   "version": "3.12.7"
  }
 },
 "nbformat": 4,
 "nbformat_minor": 5
}
